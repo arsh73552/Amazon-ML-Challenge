{
 "cells": [
  {
   "cell_type": "code",
   "execution_count": 1,
   "metadata": {},
   "outputs": [
    {
     "name": "stdout",
     "output_type": "stream",
     "text": [
      "csv read\n",
      "vectors converted\n",
      "nparr created\n",
      "nparr squeezed\n"
     ]
    }
   ],
   "source": [
    "import pandas as pd\n",
    "from sklearn.preprocessing import normalize\n",
    "import numpy as np\n",
    "def convert_string_to_array(vector_string):\n",
    "    # remove square brackets\n",
    "    vector_string = vector_string[2:-2]\n",
    "    # split string into array of floats\n",
    "    vector_array = np.array([float(num) for num in vector_string.split()])\n",
    "    # reshape array to 2D array with single row\n",
    "    vector_array = vector_array.reshape(1, -1)\n",
    "    # normalize vectors in the array\n",
    "    vector_array = normalize(vector_array)\n",
    "    return vector_array\n",
    "data = pd.read_csv(\"word2vec.csv\")\n",
    "print('csv read')\n",
    "data['vectors'] = data['vectors'].apply(convert_string_to_array)\n",
    "print('vectors converted')\n",
    "nparr = np.array(data.vectors.to_list())\n",
    "print('nparr created')\n",
    "nparr = nparr.squeeze(axis=1)\n",
    "print('nparr squeezed')\n",
    "product_length = data['PRODUCT_LENGTH']"
   ]
  },
  {
   "cell_type": "code",
   "execution_count": 16,
   "metadata": {},
   "outputs": [],
   "source": [
    "nparrID = np.array(data.PRODUCT_TYPE_ID.to_list())\n",
    "x_min = np.min(nparrID)\n",
    "x_max = np.max(nparrID)\n",
    "nparrID = (nparrID - x_min) / (x_max - x_min)"
   ]
  },
  {
   "cell_type": "code",
   "execution_count": 23,
   "metadata": {},
   "outputs": [
    {
     "name": "stdout",
     "output_type": "stream",
     "text": [
      "0.12295081967213115\n"
     ]
    }
   ],
   "source": [
    "nparrID_col = nparrID.reshape((-1, 1))\n",
    "npconcat = np.concatenate((nparr, nparrID_col), axis=1)\n",
    "nparr = npconcat"
   ]
  },
  {
   "cell_type": "code",
   "execution_count": 25,
   "metadata": {},
   "outputs": [],
   "source": [
    "import tensorflow as tf\n",
    "from sklearn.model_selection import train_test_split\n",
    "from sklearn import metrics\n",
    "import numpy as np\n",
    "from tensorflow.keras.callbacks import ReduceLROnPlateau\n",
    "# split the data into training and testing sets\n",
    "X_train, X_test, y_train, y_test = train_test_split(nparr, product_length, test_size=0.05)\n",
    "X_train, X_val, y_train, y_val = train_test_split(X_train, y_train, test_size=0.05)\n",
    "# create a neural network model\n",
    "model = tf.keras.models.Sequential([\n",
    "    tf.keras.layers.Dense(1024, input_shape=(101,), activation='relu'),\n",
    "    tf.keras.layers.BatchNormalization(),\n",
    "    tf.keras.layers.Dropout(0.2),\n",
    "    tf.keras.layers.Dense(1024, activation='relu'),\n",
    "    tf.keras.layers.BatchNormalization(),\n",
    "    tf.keras.layers.Dropout(0.2),\n",
    "    tf.keras.layers.Dense(512, activation='relu'),\n",
    "    tf.keras.layers.BatchNormalization(),\n",
    "    tf.keras.layers.Dropout(0.2),\n",
    "    tf.keras.layers.Dense(1, activation='linear')\n",
    "])\n",
    "optimizer = tf.keras.optimizers.Adam(lr=0.002)\n",
    "lr_scheduler = ReduceLROnPlateau(monitor='val_loss', factor=0.2, patience=5, verbose=1)\n",
    "# compile the model\n",
    "model.compile(optimizer=tf.keras.optimizers.Adam(learning_rate=0.01), loss=tf.keras.losses.MeanAbsolutePercentageError(), metrics=[tf.keras.metrics.MeanAbsolutePercentageError()])\n",
    "\n",
    "# train the model\n",
    "model.fit(X_train, y_train, epochs=50, batch_size=64, validation_data=(X_val, y_val), callbacks=[lr_scheduler])\n",
    "\n",
    "# predict on test data\n",
    "y_pred = model.predict(X_test)\n",
    "# calculate evaluation metric\n",
    "score = max(0, 100 * (1 - metrics.mean_absolute_percentage_error(y_test, y_pred)))\n",
    "print(metrics.mean_absolute_percentage_error(y_test, y_pred))\n",
    "print('Score:', score)\n",
    "model.save('mymodel')"
   ]
  },
  {
   "cell_type": "code",
   "execution_count": 4,
   "metadata": {},
   "outputs": [
    {
     "name": "stdout",
     "output_type": "stream",
     "text": [
      "3516/3516 [==============================] - 6s 2ms/step\n"
     ]
    }
   ],
   "source": [
    "y_pred = model.predict(X_test)"
   ]
  },
  {
   "cell_type": "code",
   "execution_count": 3,
   "metadata": {},
   "outputs": [
    {
     "data": {
      "text/plain": [
       "array([[ 268.04276],\n",
       "       [ 277.26526],\n",
       "       [ 521.2401 ],\n",
       "       [ 167.57553],\n",
       "       [ 496.8228 ],\n",
       "       [ 957.27747],\n",
       "       [ 418.289  ],\n",
       "       [ 393.6325 ],\n",
       "       [2209.6594 ],\n",
       "       [ 479.679  ]], dtype=float32)"
      ]
     },
     "execution_count": 3,
     "metadata": {},
     "output_type": "execute_result"
    }
   ],
   "source": [
    "y_pred[:10]"
   ]
  },
  {
   "cell_type": "code",
   "execution_count": 4,
   "metadata": {},
   "outputs": [
    {
     "data": {
      "text/plain": [
       "1307313     196.850393\n",
       "1457979     240.000000\n",
       "314082      500.000000\n",
       "824495      270.000000\n",
       "139289      138.000000\n",
       "2079520    1181.102361\n",
       "690524      830.000000\n",
       "1403365    2050.000000\n",
       "222487     2400.000000\n",
       "2111576     590.551180\n",
       "Name: PRODUCT_LENGTH, dtype: float64"
      ]
     },
     "execution_count": 4,
     "metadata": {},
     "output_type": "execute_result"
    }
   ],
   "source": [
    "y_test[:10]"
   ]
  },
  {
   "cell_type": "code",
   "execution_count": 5,
   "metadata": {},
   "outputs": [
    {
     "name": "stdout",
     "output_type": "stream",
     "text": [
      "Epoch 1/30\n",
      "33394/33394 [==============================] - 143s 4ms/step - loss: 51.1627 - mean_absolute_percentage_error: 51.1627 - val_loss: 66.7219 - val_mean_absolute_percentage_error: 66.7219\n",
      "Epoch 2/30\n",
      "33394/33394 [==============================] - 147s 4ms/step - loss: 51.1126 - mean_absolute_percentage_error: 51.1126 - val_loss: 65.6539 - val_mean_absolute_percentage_error: 65.6539\n",
      "Epoch 3/30\n",
      "33394/33394 [==============================] - 144s 4ms/step - loss: 51.1838 - mean_absolute_percentage_error: 51.1838 - val_loss: 64.9272 - val_mean_absolute_percentage_error: 64.9272\n",
      "Epoch 4/30\n",
      "33394/33394 [==============================] - 136s 4ms/step - loss: 50.9091 - mean_absolute_percentage_error: 50.9091 - val_loss: 65.4199 - val_mean_absolute_percentage_error: 65.4199\n",
      "Epoch 5/30\n",
      "16315/33394 [=============>................] - ETA: 1:11 - loss: 50.7444 - mean_absolute_percentage_error: 50.7444"
     ]
    }
   ],
   "source": [
    "model.fit(X_train, y_train, epochs=30, batch_size=64, validation_data=(X_test, y_test))"
   ]
  }
 ],
 "metadata": {
  "kernelspec": {
   "display_name": "Python 3",
   "language": "python",
   "name": "python3"
  },
  "language_info": {
   "codemirror_mode": {
    "name": "ipython",
    "version": 3
   },
   "file_extension": ".py",
   "mimetype": "text/x-python",
   "name": "python",
   "nbconvert_exporter": "python",
   "pygments_lexer": "ipython3",
   "version": "3.8.0"
  },
  "orig_nbformat": 4
 },
 "nbformat": 4,
 "nbformat_minor": 2
}
