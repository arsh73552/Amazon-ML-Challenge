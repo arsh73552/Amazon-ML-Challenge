{
 "cells": [
  {
   "cell_type": "code",
   "execution_count": 1,
   "metadata": {},
   "outputs": [],
   "source": [
    "import pandas as pd\n",
    "import string\n",
    "from nltk.corpus import stopwords\n",
    "import nltk\n",
    "\n",
    "data = pd.read_csv(\"preprocessedTest.csv\")"
   ]
  },
  {
   "cell_type": "code",
   "execution_count": 19,
   "metadata": {},
   "outputs": [
    {
     "data": {
      "text/html": [
       "<div>\n",
       "<style scoped>\n",
       "    .dataframe tbody tr th:only-of-type {\n",
       "        vertical-align: middle;\n",
       "    }\n",
       "\n",
       "    .dataframe tbody tr th {\n",
       "        vertical-align: top;\n",
       "    }\n",
       "\n",
       "    .dataframe thead th {\n",
       "        text-align: right;\n",
       "    }\n",
       "</style>\n",
       "<table border=\"1\" class=\"dataframe\">\n",
       "  <thead>\n",
       "    <tr style=\"text-align: right;\">\n",
       "      <th></th>\n",
       "      <th>PRODUCT_ID</th>\n",
       "      <th>PRODUCT_TYPE_ID</th>\n",
       "      <th>vectors</th>\n",
       "    </tr>\n",
       "  </thead>\n",
       "  <tbody>\n",
       "    <tr>\n",
       "      <th>0</th>\n",
       "      <td>604373</td>\n",
       "      <td>6142</td>\n",
       "      <td>[[-0.18865413091756206, 0.10678430129962407, -...</td>\n",
       "    </tr>\n",
       "    <tr>\n",
       "      <th>1</th>\n",
       "      <td>1729783</td>\n",
       "      <td>1622</td>\n",
       "      <td>[[0.27870063649762855, 0.13175745660290503, 0....</td>\n",
       "    </tr>\n",
       "    <tr>\n",
       "      <th>2</th>\n",
       "      <td>1871949</td>\n",
       "      <td>7540</td>\n",
       "      <td>[[0.0238336285988297, -0.1799920688624883, 0.0...</td>\n",
       "    </tr>\n",
       "    <tr>\n",
       "      <th>3</th>\n",
       "      <td>1107571</td>\n",
       "      <td>12442</td>\n",
       "      <td>[[-0.20874903445488288, 0.0752784950603565, 0....</td>\n",
       "    </tr>\n",
       "    <tr>\n",
       "      <th>4</th>\n",
       "      <td>624253</td>\n",
       "      <td>6318</td>\n",
       "      <td>[[-0.08844696136271313, -0.0637224980060365, -...</td>\n",
       "    </tr>\n",
       "  </tbody>\n",
       "</table>\n",
       "</div>"
      ],
      "text/plain": [
       "   PRODUCT_ID  PRODUCT_TYPE_ID   \n",
       "0      604373             6142  \\\n",
       "1     1729783             1622   \n",
       "2     1871949             7540   \n",
       "3     1107571            12442   \n",
       "4      624253             6318   \n",
       "\n",
       "                                             vectors  \n",
       "0  [[-0.18865413091756206, 0.10678430129962407, -...  \n",
       "1  [[0.27870063649762855, 0.13175745660290503, 0....  \n",
       "2  [[0.0238336285988297, -0.1799920688624883, 0.0...  \n",
       "3  [[-0.20874903445488288, 0.0752784950603565, 0....  \n",
       "4  [[-0.08844696136271313, -0.0637224980060365, -...  "
      ]
     },
     "execution_count": 19,
     "metadata": {},
     "output_type": "execute_result"
    }
   ],
   "source": [
    "data.head()"
   ]
  },
  {
   "cell_type": "code",
   "execution_count": 7,
   "metadata": {},
   "outputs": [],
   "source": [
    "import tensorflow as tf\n",
    "model = tf.keras.models.load_model('mymodel')"
   ]
  },
  {
   "cell_type": "code",
   "execution_count": 11,
   "metadata": {},
   "outputs": [],
   "source": [
    "import numpy as np\n",
    "from sklearn.preprocessing import normalize\n",
    "def convert_string_to_array(vector_string):\n",
    "    # remove square brackets\n",
    "    vector_string = vector_string[1:-1]\n",
    "    # split string into array of floats\n",
    "    vector_array = np.array([float(num) for num in vector_string.split()])\n",
    "    # reshape array to 2D array with single row\n",
    "    vector_array = vector_array.reshape(1, -1)\n",
    "    # normalize vectors in the array\n",
    "    vector_array = normalize(vector_array)\n",
    "    return vector_array\n",
    "\n",
    "data['vectors'] = data['vectors'].apply(convert_string_to_array)"
   ]
  },
  {
   "cell_type": "code",
   "execution_count": 12,
   "metadata": {},
   "outputs": [],
   "source": [
    "nparr = np.array(data.vectors.to_list())"
   ]
  },
  {
   "cell_type": "code",
   "execution_count": 14,
   "metadata": {},
   "outputs": [],
   "source": [
    "nparr = nparr.squeeze(axis = 1)"
   ]
  },
  {
   "cell_type": "code",
   "execution_count": 15,
   "metadata": {},
   "outputs": [
    {
     "data": {
      "text/plain": [
       "(734736, 100)"
      ]
     },
     "execution_count": 15,
     "metadata": {},
     "output_type": "execute_result"
    }
   ],
   "source": [
    "nparr.shape"
   ]
  },
  {
   "cell_type": "code",
   "execution_count": 16,
   "metadata": {},
   "outputs": [],
   "source": [
    "nparrID = np.array(data.PRODUCT_TYPE_ID.to_list())\n",
    "x_min = np.min(nparrID)\n",
    "x_max = np.max(nparrID)\n",
    "nparrID = (nparrID - x_min) / (x_max - x_min)"
   ]
  },
  {
   "cell_type": "code",
   "execution_count": 17,
   "metadata": {},
   "outputs": [],
   "source": [
    "nparrID_col = nparrID.reshape((-1, 1))\n",
    "npconcat = np.concatenate((nparr, nparrID_col), axis=1)\n",
    "nparr = npconcat"
   ]
  },
  {
   "cell_type": "code",
   "execution_count": 18,
   "metadata": {},
   "outputs": [
    {
     "data": {
      "text/plain": [
       "(734736, 101)"
      ]
     },
     "execution_count": 18,
     "metadata": {},
     "output_type": "execute_result"
    }
   ],
   "source": [
    "nparr.shape"
   ]
  },
  {
   "cell_type": "code",
   "execution_count": 20,
   "metadata": {},
   "outputs": [
    {
     "name": "stdout",
     "output_type": "stream",
     "text": [
      "22961/22961 [==============================] - 44s 2ms/step\n"
     ]
    }
   ],
   "source": [
    "data['PRODUCT_LENGTH'] = model.predict(nparr)"
   ]
  },
  {
   "cell_type": "code",
   "execution_count": 25,
   "metadata": {},
   "outputs": [],
   "source": [
    "data.to_csv('submission.csv', index=False)"
   ]
  }
 ],
 "metadata": {
  "kernelspec": {
   "display_name": "Python 3",
   "language": "python",
   "name": "python3"
  },
  "language_info": {
   "codemirror_mode": {
    "name": "ipython",
    "version": 3
   },
   "file_extension": ".py",
   "mimetype": "text/x-python",
   "name": "python",
   "nbconvert_exporter": "python",
   "pygments_lexer": "ipython3",
   "version": "3.8.0"
  },
  "orig_nbformat": 4
 },
 "nbformat": 4,
 "nbformat_minor": 2
}
